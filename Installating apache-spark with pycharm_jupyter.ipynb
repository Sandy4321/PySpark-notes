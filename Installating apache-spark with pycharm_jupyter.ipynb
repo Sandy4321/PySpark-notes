{
 "cells": [
  {
   "cell_type": "markdown",
   "metadata": {},
   "source": [
    "# Instalando y ligando Apache-Spark (pyspark) a Pycharm y Jupyter\n",
    "\n",
    "Primero vamos a descargar spark:\n",
    "\n",
    "Spark puede ser ejecutado en un cluster en **modo local**, esto significa que todos los procesos de spark corren en la misma JVM. Una de las ventajas de usar este **modo local** es que se puede debuggear el trabajo y probarlo, este modo tambien puede ser util en escenarios donde queremos ejecutar computo en paralelo a traves de diferentes procesadores en una sola computadora:\n",
    "\n",
    "### Para Pycharm:\n",
    "\n",
    "### Paso 1\n",
    "\n",
    "En mac, abrimos la terminal e instalamos con homebrew:\n",
    "\n",
    "1. `brew install apache-spark`\n",
    "2. `brew install hadoop`\n",
    "\n",
    "### Paso 2\n",
    "Luego obtenemos el path para configurar en pycharm, en la terminal:\n",
    "\n",
    "1. brew info apache-spark\n",
    "\n",
    "```brew info apache-spark\n",
    "apache-spark: stable 1.6.0, HEAD Engine for large-scale data processing\n",
    "https://spark.apache.org/\n",
    "/usr/local/Cellar/apache-spark/1.5.1 (649 files, 302.9M) *\n",
    "  Poured from bottle\n",
    "From: https://github.com/Homebrew/homebrew/blob/master/Library/Formula/apache-spark.rb\n",
    "```\n",
    "\n",
    "### Paso 3\n",
    "1. Luego vamos a Pycharm de lado superior: Run>Edit Configurations >Environment Variables. \n",
    "2. Creamos dos nuevas variables PYTHONPATH Y SPARKHOME\n",
    "3. En PYTHONPATH ( /usr/local/Cellar/apache-spark/1.5.1/libexec/python )\n",
    "4. EN SPARKHOME ( /usr/local/Cellar/apache-spark/1.5.1 )\n",
    "\n",
    "Finalmente parece que todo esta listo."
   ]
  },
  {
   "cell_type": "markdown",
   "metadata": {
    "collapsed": false
   },
   "source": [
    "Por otro lado, tambien hubieramos podido usar el siguiente script:\n",
    "\n",
    "```\n",
    "import os\n",
    "import sys\n",
    "\n",
    " # Path for spark source folder\n",
    " #/usr/local/Cellar/apache-spark/1.5.1\n",
    "os.environ['SPARK_HOME']=\"/usr/local/Cellar/apache-spark/1.5.1\"\n",
    "\n",
    " # Append pyspark  to Python Path\n",
    "sys.path.append(\"/usr/local/Cellar/apache-spark/1.5.1/libexec/python\")\n",
    "\n",
    "try:\n",
    "    from pyspark import SparkContext\n",
    "    from pyspark import SparkConf\n",
    "    print (\"Successfully imported Spark Modules\")\n",
    "\n",
    "except ImportError as e:\n",
    "    print (\"Can not import Spark Modules\", e)\n",
    "    sys.exit(1)\n",
    "```\n",
    "\n",
    "### Para Jupyter:\n",
    "\n",
    "Ahora para ligar pyspark con jupyter hacemos lo siguiente en la terminal (asegurarse de revisar las versiones de apache-spark):\n",
    "\n",
    "### Paso 1\n",
    "\n",
    "En terminal hacemos lo siguiente:\n",
    "```\n",
    "echo \"export PATH=$PATH:/usr/local/Cellar/apache-spark/1.5.1/bin\" >> .profile\n",
    "echo \"export PYSPARK_DRIVER_PYTHON=ipython\" >> .profile\n",
    "echo \"export PYSPARK_DRIVER_PYTHON_OPTS='notebook' pyspark\" >> .profile\n",
    "source .profile\n",
    "```\n"
   ]
  },
  {
   "cell_type": "markdown",
   "metadata": {
    "collapsed": true
   },
   "source": [
    "### Paso 2\n",
    "Ahora abrimos en la terminal un notebook y iniciado pyspark:\n",
    "\n",
    "```\n",
    "user@MacBook-Pro-de-User-2:~$ cd Jupyter/\n",
    "user@MacBook-Pro-de-User-2:~/Jupyter$ pyspark\n",
    "```"
   ]
  },
  {
   "cell_type": "markdown",
   "metadata": {},
   "source": [
    "Ahora podemos probar con la variable spark context"
   ]
  },
  {
   "cell_type": "code",
   "execution_count": 1,
   "metadata": {
    "collapsed": false
   },
   "outputs": [
    {
     "data": {
      "text/plain": [
       "<pyspark.context.SparkContext at 0x10b16d390>"
      ]
     },
     "execution_count": 1,
     "metadata": {},
     "output_type": "execute_result"
    }
   ],
   "source": [
    "sc"
   ]
  },
  {
   "cell_type": "markdown",
   "metadata": {},
   "source": [
    "Ambos quedaron ligados e instalados "
   ]
  }
 ],
 "metadata": {
  "kernelspec": {
   "display_name": "Python 2",
   "language": "python",
   "name": "python2"
  },
  "language_info": {
   "codemirror_mode": {
    "name": "ipython",
    "version": 2
   },
   "file_extension": ".py",
   "mimetype": "text/x-python",
   "name": "python",
   "nbconvert_exporter": "python",
   "pygments_lexer": "ipython2",
   "version": "2.7.10"
  }
 },
 "nbformat": 4,
 "nbformat_minor": 0
}
