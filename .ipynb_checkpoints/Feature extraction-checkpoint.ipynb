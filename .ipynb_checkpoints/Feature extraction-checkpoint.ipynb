{
 "cells": [
  {
   "cell_type": "markdown",
   "metadata": {},
   "source": [
    "# Haciendo features a partir de un dataset con Pyspark"
   ]
  },
  {
   "cell_type": "markdown",
   "metadata": {},
   "source": [
    "Los features o caracteristicas son representaciones numericas que caracterizan atributos de un conjunto de datos."
   ]
  },
  {
   "cell_type": "code",
   "execution_count": 64,
   "metadata": {
    "collapsed": false
   },
   "outputs": [],
   "source": [
    "text_file = sc.textFile('/Users/user/GitHub/PySpark-Notes/ml-100k/u.user')\n",
    "#text_file.collect()"
   ]
  },
  {
   "cell_type": "code",
   "execution_count": 65,
   "metadata": {
    "collapsed": false
   },
   "outputs": [],
   "source": [
    "from pyspark.sql import SQLContext\n",
    "sqlContext = SQLContext(sc)\n",
    "\n",
    "#df_2 = sqlContext.read.format('com.databricks.spark.csv').options(header='false', delimiter='|').load('/Users/user/GitHub/PySpark-Notes/ml-100k/u.user')\n"
   ]
  },
  {
   "cell_type": "code",
   "execution_count": 66,
   "metadata": {
    "collapsed": false
   },
   "outputs": [
    {
     "name": "stdout",
     "output_type": "stream",
     "text": [
      "De la columna que nos interesa, regresamos las diferentes ocupaciones y los pasamos a una lista:\n",
      "\n",
      "['administrator', 'artist', 'doctor', 'educator', 'engineer', 'entertainment', 'executive', 'healthcare', 'homemaker', 'lawyer', 'librarian', 'marketing', 'none', 'other', 'programmer', 'retired', 'salesman', 'scientist', 'student', 'technician', 'writer']\n",
      "\n",
      "llave para 'administrator': 0\n",
      "llave para 'artist': 1\n",
      "llave para 'doctor': 2\n",
      "llave para 'educator': 3\n",
      "llave para 'engineer': 4\n",
      "llave para 'entertainment': 5\n",
      "llave para 'executive': 6\n",
      "llave para 'healthcare': 7\n",
      "llave para 'homemaker': 8\n",
      "llave para 'lawyer': 9\n",
      "llave para 'librarian': 10\n",
      "llave para 'marketing': 11\n",
      "llave para 'none': 13\n",
      "llave para 'programmer': 14\n",
      "llave para 'retired': 15\n",
      "llave para 'salesman': 16\n",
      "llave para 'scientist': 17\n",
      "llave para 'technician': 19\n",
      "llave para 'writer': 20\n"
     ]
    }
   ],
   "source": [
    "import pandas as pd\n",
    "df = pd.read_csv('/Users/user/GitHub/PySpark-Notes/ml-100k/u.user', sep='|',\n",
    "                 #Le podemos colocar algunos headers para mayor comodidad:\n",
    "                 names = ['Age','Gender', 'Occupation', 'ZIP_CODE'])\n",
    "\n",
    "# De la columna que nos interesa, regresamos las diferentes ocupaciones y los pasamos a una lista:\n",
    "all_occupations = sorted(df['Occupation'].unique().tolist())\n",
    "print 'De la columna que nos interesa, regresamos las diferentes ocupaciones y los pasamos a una lista:\\n\\n',all_occupations\n",
    "\n",
    "idx = 0\n",
    "all_occupations_dict = {}\n",
    "\n",
    "for occupations in all_occupations:\n",
    "    all_occupations_dict[occupations] = idx\n",
    "    idx +=1\n",
    "    \n",
    "#Ahora generamos una representación numerica para cada tipo de ocupación:    \n",
    "print \"\\nllave para 'administrator': %d\" % all_occupations_dict['administrator']\n",
    "print \"llave para 'artist': %d\" % all_occupations_dict['artist']\n",
    "print \"llave para 'doctor': %d\" % all_occupations_dict['doctor']\n",
    "print \"llave para 'educator': %d\" % all_occupations_dict['educator']\n",
    "print \"llave para 'engineer': %d\" % all_occupations_dict['engineer']\n",
    "print \"llave para 'entertainment': %d\" % all_occupations_dict['entertainment']\n",
    "print \"llave para 'executive': %d\" % all_occupations_dict['executive']\n",
    "print \"llave para 'healthcare': %d\" % all_occupations_dict['healthcare']\n",
    "print \"llave para 'homemaker': %d\" % all_occupations_dict['homemaker']\n",
    "print \"llave para 'lawyer': %d\" % all_occupations_dict['lawyer']\n",
    "print \"llave para 'librarian': %d\" % all_occupations_dict['librarian']\n",
    "print \"llave para 'marketing': %d\" % all_occupations_dict['marketing']\n",
    "print \"llave para 'none': %d\" % all_occupations_dict['other']\n",
    "print \"llave para 'programmer': %d\" % all_occupations_dict['programmer']\n",
    "print \"llave para 'retired': %d\" % all_occupations_dict['retired']\n",
    "print \"llave para 'salesman': %d\" % all_occupations_dict['salesman']\n",
    "print \"llave para 'scientist': %d\" % all_occupations_dict['scientist']\n",
    "print \"llave para 'technician': %d\" % all_occupations_dict['technician']\n",
    "print \"llave para 'writer': %d\" % all_occupations_dict['writer']"
   ]
  },
  {
   "cell_type": "code",
   "execution_count": 78,
   "metadata": {
    "collapsed": false
   },
   "outputs": [
    {
     "name": "stdout",
     "output_type": "stream",
     "text": [
      "Binary feature vector: [ 0.  0.  0.  0.  0.  0.  0.  0.  0.  0.  0.  0.  0.  0.  1.  0.  0.  0.\n",
      "  0.  0.  0.]\n",
      "Lenght of binary vector 21\n"
     ]
    }
   ],
   "source": [
    "import numpy as np\n",
    "#prefiero usar shape pero con len se puede\n",
    "#k = len(all_occupations_dict)\n",
    "binary_x = np.zeros(k)\n",
    "k_programmer = all_occupations_dict['programmer']\n",
    "binary_x[k_programmer] = 1\n",
    "print 'Binary feature vector: %s' % binary_x\n",
    "print 'Lenght of binary vector %d'% binary_x.shape\n"
   ]
  },
  {
   "cell_type": "code",
   "execution_count": null,
   "metadata": {
    "collapsed": true
   },
   "outputs": [],
   "source": []
  }
 ],
 "metadata": {
  "kernelspec": {
   "display_name": "Python 2",
   "language": "python",
   "name": "python2"
  },
  "language_info": {
   "codemirror_mode": {
    "name": "ipython",
    "version": 2
   },
   "file_extension": ".py",
   "mimetype": "text/x-python",
   "name": "python",
   "nbconvert_exporter": "python",
   "pygments_lexer": "ipython2",
   "version": "2.7.10"
  }
 },
 "nbformat": 4,
 "nbformat_minor": 0
}
