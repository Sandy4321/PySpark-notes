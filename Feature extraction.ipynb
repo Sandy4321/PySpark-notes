{
 "cells": [
  {
   "cell_type": "markdown",
   "metadata": {},
   "source": [
    "# Haciendo features a partir de un dataset con Pyspark"
   ]
  },
  {
   "cell_type": "markdown",
   "metadata": {},
   "source": [
    "Los features o caracteristicas son representaciones numericas que caracterizan atributos de un conjunto de datos."
   ]
  },
  {
   "cell_type": "markdown",
   "metadata": {},
   "source": [
    "## Features categoricos:"
   ]
  },
  {
   "cell_type": "code",
   "execution_count": 25,
   "metadata": {
    "collapsed": false
   },
   "outputs": [],
   "source": [
    "text_file = sc.textFile('/Users/user/GitHub/PySpark-Notes/ml-100k/u.user')\n",
    "#text_file.collect()"
   ]
  },
  {
   "cell_type": "code",
   "execution_count": 26,
   "metadata": {
    "collapsed": false
   },
   "outputs": [],
   "source": [
    "from pyspark.sql import SQLContext\n",
    "sqlContext = SQLContext(sc)\n",
    "\n",
    "#df_2 = sqlContext.read.format('com.databricks.spark.csv').options(header='false', delimiter='|').load('/Users/user/GitHub/PySpark-Notes/ml-100k/u.user')\n"
   ]
  },
  {
   "cell_type": "code",
   "execution_count": 27,
   "metadata": {
    "collapsed": false
   },
   "outputs": [
    {
     "name": "stdout",
     "output_type": "stream",
     "text": [
      "   movie_id        movie_title release_date  video_release_date  \\\n",
      "0         1   Toy Story (1995)  01-Jan-1995                 NaN   \n",
      "1         2   GoldenEye (1995)  01-Jan-1995                 NaN   \n",
      "2         3  Four Rooms (1995)  01-Jan-1995                 NaN   \n",
      "3         4  Get Shorty (1995)  01-Jan-1995                 NaN   \n",
      "4         5     Copycat (1995)  01-Jan-1995                 NaN   \n",
      "\n",
      "                                            IMDb-URL  unknown  Action  \\\n",
      "0  http://us.imdb.com/M/title-exact?Toy%20Story%2...        0       0   \n",
      "1  http://us.imdb.com/M/title-exact?GoldenEye%20(...        0       1   \n",
      "2  http://us.imdb.com/M/title-exact?Four%20Rooms%...        0       0   \n",
      "3  http://us.imdb.com/M/title-exact?Get%20Shorty%...        0       1   \n",
      "4  http://us.imdb.com/M/title-exact?Copycat%20(1995)        0       0   \n",
      "\n",
      "   Adventure  Animation  Childrens   ...     Fantasy  Film-Noir  Horror  \\\n",
      "0          0          1          1   ...           0          0       0   \n",
      "1          1          0          0   ...           0          0       0   \n",
      "2          0          0          0   ...           0          0       0   \n",
      "3          0          0          0   ...           0          0       0   \n",
      "4          0          0          0   ...           0          0       0   \n",
      "\n",
      "   Musical  Mystery  Romance  Sci-Fi  Thriller  War  Western  \n",
      "0        0        0        0       0         0    0        0  \n",
      "1        0        0        0       0         1    0        0  \n",
      "2        0        0        0       0         1    0        0  \n",
      "3        0        0        0       0         0    0        0  \n",
      "4        0        0        0       0         1    0        0  \n",
      "\n",
      "[5 rows x 24 columns]\n"
     ]
    }
   ],
   "source": [
    "import pandas as pd\n",
    "df_3 = pd.read_csv('/Users/user/GitHub/PySpark-Notes/ml-100k/u.item', sep = '|',names = ['movie_id','movie_title','release_date', 'video_release_date', 'IMDb-URL','unknown','Action','Adventure','Animation', 'Childrens','Comedy','Crime','Documentary','Drama','Fantasy','Film-Noir','Horror','Musical','Mystery','Romance','Sci-Fi','Thriller', 'War' ,'Western'])\n",
    "print df_3.head()"
   ]
  },
  {
   "cell_type": "code",
   "execution_count": 28,
   "metadata": {
    "collapsed": false
   },
   "outputs": [
    {
     "name": "stdout",
     "output_type": "stream",
     "text": [
      "De la columna que nos interesa, regresamos las diferentes ocupaciones y los pasamos a una lista:\n",
      "\n",
      "['administrator', 'artist', 'doctor', 'educator', 'engineer', 'entertainment', 'executive', 'healthcare', 'homemaker', 'lawyer', 'librarian', 'marketing', 'none', 'other', 'programmer', 'retired', 'salesman', 'scientist', 'student', 'technician', 'writer']\n",
      "\n",
      "llave para 'administrator': 0\n",
      "llave para 'artist': 1\n",
      "llave para 'doctor': 2\n",
      "llave para 'educator': 3\n",
      "llave para 'engineer': 4\n",
      "llave para 'entertainment': 5\n",
      "llave para 'executive': 6\n",
      "llave para 'healthcare': 7\n",
      "llave para 'homemaker': 8\n",
      "llave para 'lawyer': 9\n",
      "llave para 'librarian': 10\n",
      "llave para 'marketing': 11\n",
      "llave para 'none': 13\n",
      "llave para 'programmer': 14\n",
      "llave para 'retired': 15\n",
      "llave para 'salesman': 16\n",
      "llave para 'scientist': 17\n",
      "llave para 'technician': 19\n",
      "llave para 'writer': 20\n"
     ]
    }
   ],
   "source": [
    "import pandas as pd\n",
    "df = pd.read_csv('/Users/user/GitHub/PySpark-Notes/ml-100k/u.user', sep='|',\n",
    "                 #Le podemos colocar algunos headers para mayor comodidad:\n",
    "                 names = ['Age','Gender', 'Occupation', 'ZIP_CODE'])\n",
    "\n",
    "# De la columna que nos interesa, regresamos las diferentes ocupaciones y los pasamos a una lista:\n",
    "all_occupations = sorted(df['Occupation'].unique().tolist())\n",
    "print 'De la columna que nos interesa, regresamos las diferentes ocupaciones y los pasamos a una lista:\\n\\n',all_occupations\n",
    "\n",
    "idx = 0\n",
    "all_occupations_dict = {}\n",
    "\n",
    "for occupations in all_occupations:\n",
    "    all_occupations_dict[occupations] = idx\n",
    "    idx +=1\n",
    "    \n",
    "#Ahora generamos una representación numerica para cada tipo de ocupación:    \n",
    "print \"\\nllave para 'administrator': %d\" % all_occupations_dict['administrator']\n",
    "print \"llave para 'artist': %d\" % all_occupations_dict['artist']\n",
    "print \"llave para 'doctor': %d\" % all_occupations_dict['doctor']\n",
    "print \"llave para 'educator': %d\" % all_occupations_dict['educator']\n",
    "print \"llave para 'engineer': %d\" % all_occupations_dict['engineer']\n",
    "print \"llave para 'entertainment': %d\" % all_occupations_dict['entertainment']\n",
    "print \"llave para 'executive': %d\" % all_occupations_dict['executive']\n",
    "print \"llave para 'healthcare': %d\" % all_occupations_dict['healthcare']\n",
    "print \"llave para 'homemaker': %d\" % all_occupations_dict['homemaker']\n",
    "print \"llave para 'lawyer': %d\" % all_occupations_dict['lawyer']\n",
    "print \"llave para 'librarian': %d\" % all_occupations_dict['librarian']\n",
    "print \"llave para 'marketing': %d\" % all_occupations_dict['marketing']\n",
    "print \"llave para 'none': %d\" % all_occupations_dict['other']\n",
    "print \"llave para 'programmer': %d\" % all_occupations_dict['programmer']\n",
    "print \"llave para 'retired': %d\" % all_occupations_dict['retired']\n",
    "print \"llave para 'salesman': %d\" % all_occupations_dict['salesman']\n",
    "print \"llave para 'scientist': %d\" % all_occupations_dict['scientist']\n",
    "print \"llave para 'technician': %d\" % all_occupations_dict['technician']\n",
    "print \"llave para 'writer': %d\" % all_occupations_dict['writer']"
   ]
  },
  {
   "cell_type": "code",
   "execution_count": 39,
   "metadata": {
    "collapsed": false
   },
   "outputs": [
    {
     "name": "stdout",
     "output_type": "stream",
     "text": [
      "Binary feature vector (administrator): \n",
      "[ 1.  0.  0.  0.  0.  0.  0.  0.  0.  0.  0.  0.  0.  0.  0.  0.  0.  0.\n",
      "  0.  0.  0.]\n",
      "\n",
      "Dimension del vector (administrator) 21\n",
      "Binary feature vector (artist): \n",
      "[ 1.  0.  0.  0.  0.  0.  0.  0.  0.  0.  0.  0.  0.  0.  0.  0.  0.  0.\n",
      "  0.  0.  1.]\n",
      "\n",
      "Dimension del vector (artist)21\n",
      "Binary feature vector (doctor): \n",
      "[ 1.  0.  1.  0.  0.  0.  0.  0.  0.  0.  0.  0.  0.  0.  0.  0.  0.  0.\n",
      "  0.  0.  1.]\n",
      "\n",
      "Dimension del vector (doctor)21\n",
      "Binary feature vector (educator): \n",
      "[ 1.  0.  1.  1.  0.  0.  0.  0.  0.  0.  0.  0.  0.  0.  0.  0.  0.  0.\n",
      "  0.  0.  1.]\n",
      "\n",
      "Dimension del vector (educator)21\n",
      "Binary feature vector (engineer): \n",
      "[ 1.  0.  1.  1.  1.  0.  0.  0.  0.  0.  0.  0.  0.  0.  0.  0.  0.  0.\n",
      "  0.  0.  1.]\n",
      "\n",
      "Dimension del vector (engineer)21\n",
      "Binary feature vector (entertainment): \n",
      "[ 1.  0.  1.  1.  1.  1.  0.  0.  0.  0.  0.  0.  0.  0.  0.  0.  0.  0.\n",
      "  0.  0.  1.]\n",
      "\n",
      "Dimension del vector (entertainment)21\n",
      "Binary feature vector (executive): \n",
      "[ 1.  0.  1.  1.  1.  1.  1.  0.  0.  0.  0.  0.  0.  0.  0.  0.  0.  0.\n",
      "  0.  0.  1.]\n",
      "\n",
      "Dimension del vector (executive)21\n",
      "Binary feature vector (healthcare): \n",
      "[ 1.  0.  1.  1.  1.  1.  1.  1.  0.  0.  0.  0.  0.  0.  0.  0.  0.  0.\n",
      "  0.  0.  1.]\n",
      "\n",
      "Dimension del vector (healthcare)21\n",
      "Binary feature vector (homemaker): \n",
      "[ 1.  0.  1.  1.  1.  1.  1.  1.  1.  0.  0.  0.  0.  0.  0.  0.  0.  0.\n",
      "  0.  0.  1.]\n",
      "\n",
      "Dimension del vector (homemaker)21\n",
      "Binary feature vector (lawyer): \n",
      "[ 1.  0.  1.  1.  1.  1.  1.  1.  1.  1.  0.  0.  0.  0.  0.  0.  0.  0.\n",
      "  0.  0.  1.]\n",
      "\n",
      "Dimension del vector (lawyer)21\n",
      "Binary feature vector (librarian): \n",
      "[ 1.  0.  1.  1.  1.  1.  1.  1.  1.  1.  1.  0.  0.  0.  0.  0.  0.  0.\n",
      "  0.  0.  1.]\n",
      "\n",
      "Dimension del vector (librarian)21\n",
      "Binary feature vector (marketing): \n",
      "[ 1.  0.  1.  1.  1.  1.  1.  1.  1.  1.  1.  1.  0.  0.  0.  0.  0.  0.\n",
      "  0.  0.  1.]\n",
      "\n",
      "Dimension del vector (marketing)21\n",
      "Binary feature vector (none): \n",
      "[ 1.  0.  1.  1.  1.  1.  1.  1.  1.  1.  1.  1.  1.  0.  0.  0.  0.  0.\n",
      "  0.  0.  1.]\n",
      "\n",
      "Dimension del vector (none)21\n",
      "Binary feature vector (programmer): \n",
      "[ 1.  0.  1.  1.  1.  1.  1.  1.  1.  1.  1.  1.  1.  0.  1.  0.  0.  0.\n",
      "  0.  0.  1.]\n",
      "\n",
      "Dimension del vector (programmer)21\n",
      "Binary feature vector (retired): \n",
      "[ 1.  0.  1.  1.  1.  1.  1.  1.  1.  1.  1.  1.  1.  0.  1.  1.  0.  0.\n",
      "  0.  0.  1.]\n",
      "\n",
      "Dimension del vector (retired)21\n",
      "Binary feature vector (salesman): \n",
      "[ 1.  0.  1.  1.  1.  1.  1.  1.  1.  1.  1.  1.  1.  0.  1.  1.  1.  0.\n",
      "  0.  0.  1.]\n",
      "\n",
      "Dimension del vector (salesman)21\n",
      "Binary feature vector (scientist): \n",
      "[ 1.  0.  1.  1.  1.  1.  1.  1.  1.  1.  1.  1.  1.  0.  1.  1.  1.  1.\n",
      "  0.  0.  1.]\n",
      "\n",
      "Dimension del vector (scientist)21\n",
      "Binary feature vector (technician): \n",
      "[ 1.  0.  1.  1.  1.  1.  1.  1.  1.  1.  1.  1.  1.  0.  1.  1.  1.  1.\n",
      "  0.  1.  1.]\n",
      "\n",
      "Dimension del vector (technician)21\n",
      "Binary feature vector (writer): \n",
      "[ 1.  0.  1.  1.  1.  1.  1.  1.  1.  1.  1.  1.  1.  0.  1.  1.  1.  1.\n",
      "  0.  1.  1.]\n",
      "\n",
      "Dimension del vector (writer)21\n"
     ]
    }
   ],
   "source": [
    "import numpy as np\n",
    "#prefiero usar shape pero con len se puede\n",
    "k = len(all_occupations_dict)\n",
    "binary_x = np.zeros(k)\n",
    "\n",
    "\n",
    "k_administrator = all_occupations_dict['administrator']\n",
    "binary_x[k_administrator] = 1\n",
    "print 'Binary feature vector (administrator): \\n', binary_x\n",
    "print '\\nDimension del vector (administrator) %d'% binary_x.shape\n",
    "\n",
    "###################################################\n",
    "k_artist = all_occupations_dict['artist']\n",
    "binary_x[k_programmer] = 1\n",
    "print 'Binary feature vector (artist): \\n', binary_x\n",
    "print '\\nDimension del vector (artist)%d'% binary_x.shape\n",
    "\n",
    "\n",
    "###################################################\n",
    "k_programmer = all_occupations_dict['doctor']\n",
    "binary_x[k_programmer] = 1\n",
    "print 'Binary feature vector (doctor): \\n', binary_x\n",
    "print '\\nDimension del vector (doctor)%d'% binary_x.shape\n",
    "\n",
    "\n",
    "###################################################\n",
    "k_programmer = all_occupations_dict['educator']\n",
    "binary_x[k_programmer] = 1\n",
    "print 'Binary feature vector (educator): \\n', binary_x\n",
    "print '\\nDimension del vector (educator)%d'% binary_x.shape\n",
    "\n",
    "\n",
    "###################################################\n",
    "k_programmer = all_occupations_dict['engineer']\n",
    "binary_x[k_programmer] = 1\n",
    "print 'Binary feature vector (engineer): \\n', binary_x\n",
    "print '\\nDimension del vector (engineer)%d'% binary_x.shape\n",
    "\n",
    "\n",
    "###################################################\n",
    "k_programmer = all_occupations_dict['entertainment']\n",
    "binary_x[k_programmer] = 1\n",
    "print 'Binary feature vector (entertainment): \\n', binary_x\n",
    "print '\\nDimension del vector (entertainment)%d'% binary_x.shape\n",
    "\n",
    "\n",
    "###################################################\n",
    "k_programmer = all_occupations_dict['executive']\n",
    "binary_x[k_programmer] = 1\n",
    "print 'Binary feature vector (executive): \\n', binary_x\n",
    "print '\\nDimension del vector (executive)%d'% binary_x.shape\n",
    "\n",
    "\n",
    "###################################################\n",
    "k_programmer = all_occupations_dict['healthcare']\n",
    "binary_x[k_programmer] = 1\n",
    "print 'Binary feature vector (healthcare): \\n', binary_x\n",
    "print '\\nDimension del vector (healthcare)%d'% binary_x.shape\n",
    "\n",
    "###################################################\n",
    "k_programmer = all_occupations_dict['homemaker']\n",
    "binary_x[k_programmer] = 1\n",
    "print 'Binary feature vector (homemaker): \\n', binary_x\n",
    "print '\\nDimension del vector (homemaker)%d'% binary_x.shape\n",
    "\n",
    "\n",
    "\n",
    "###################################################\n",
    "k_programmer = all_occupations_dict['lawyer']\n",
    "binary_x[k_programmer] = 1\n",
    "print 'Binary feature vector (lawyer): \\n', binary_x\n",
    "print '\\nDimension del vector (lawyer)%d'% binary_x.shape\n",
    "\n",
    "\n",
    "###################################################\n",
    "k_programmer = all_occupations_dict['librarian']\n",
    "binary_x[k_programmer] = 1\n",
    "print 'Binary feature vector (librarian): \\n', binary_x\n",
    "print '\\nDimension del vector (librarian)%d'% binary_x.shape\n",
    "\n",
    "\n",
    "###################################################\n",
    "k_programmer = all_occupations_dict['marketing']\n",
    "binary_x[k_programmer] = 1\n",
    "print 'Binary feature vector (marketing): \\n', binary_x\n",
    "print '\\nDimension del vector (marketing)%d'% binary_x.shape\n",
    "\n",
    "\n",
    "###################################################\n",
    "k_programmer = all_occupations_dict['none']\n",
    "binary_x[k_programmer] = 1\n",
    "print 'Binary feature vector (none): \\n', binary_x\n",
    "print '\\nDimension del vector (none)%d'% binary_x.shape\n",
    "\n",
    "\n",
    "###################################################\n",
    "k_programmer = all_occupations_dict['programmer']\n",
    "binary_x[k_programmer] = 1\n",
    "print 'Binary feature vector (programmer): \\n', binary_x\n",
    "print '\\nDimension del vector (programmer)%d'% binary_x.shape\n",
    "\n",
    "\n",
    "###################################################\n",
    "k_programmer = all_occupations_dict['retired']\n",
    "binary_x[k_programmer] = 1\n",
    "print 'Binary feature vector (retired): \\n', binary_x\n",
    "print '\\nDimension del vector (retired)%d'% binary_x.shape\n",
    "\n",
    "\n",
    "###################################################\n",
    "k_programmer = all_occupations_dict['salesman']\n",
    "binary_x[k_programmer] = 1\n",
    "print 'Binary feature vector (salesman): \\n', binary_x\n",
    "print '\\nDimension del vector (salesman)%d'% binary_x.shape\n",
    "\n",
    "\n",
    "###################################################\n",
    "k_programmer = all_occupations_dict['scientist']\n",
    "binary_x[k_programmer] = 1\n",
    "print 'Binary feature vector (scientist): \\n', binary_x\n",
    "print '\\nDimension del vector (scientist)%d'% binary_x.shape\n",
    "\n",
    "\n",
    "###################################################\n",
    "k_programmer = all_occupations_dict['technician']\n",
    "binary_x[k_programmer] = 1\n",
    "print 'Binary feature vector (technician): \\n', binary_x\n",
    "print '\\nDimension del vector (technician)%d'% binary_x.shape\n",
    "\n",
    "\n",
    "###################################################\n",
    "k_programmer = all_occupations_dict['writer']\n",
    "binary_x[k_programmer] = 1\n",
    "print 'Binary feature vector (writer): \\n', binary_x\n",
    "print '\\nDimension del vector (writer)%d'% binary_x.shape\n",
    "\n",
    "\n"
   ]
  },
  {
   "cell_type": "code",
   "execution_count": 44,
   "metadata": {
    "collapsed": true
   },
   "outputs": [],
   "source": [
    "#ToDo: ahora pegamos los vectores en una sola matriz:\n",
    "\n",
    "\n",
    "\n"
   ]
  },
  {
   "cell_type": "code",
   "execution_count": 87,
   "metadata": {
    "collapsed": false
   },
   "outputs": [
    {
     "data": {
      "text/html": [
       "<div>\n",
       "<table border=\"1\" class=\"dataframe\">\n",
       "  <thead>\n",
       "    <tr style=\"text-align: right;\">\n",
       "      <th></th>\n",
       "      <th>user_id</th>\n",
       "      <th>item_id</th>\n",
       "      <th>rating</th>\n",
       "      <th>time_stamp</th>\n",
       "    </tr>\n",
       "  </thead>\n",
       "  <tbody>\n",
       "    <tr>\n",
       "      <th>0</th>\n",
       "      <td>196</td>\n",
       "      <td>242</td>\n",
       "      <td>3</td>\n",
       "      <td>881250949</td>\n",
       "    </tr>\n",
       "    <tr>\n",
       "      <th>1</th>\n",
       "      <td>186</td>\n",
       "      <td>302</td>\n",
       "      <td>3</td>\n",
       "      <td>891717742</td>\n",
       "    </tr>\n",
       "    <tr>\n",
       "      <th>2</th>\n",
       "      <td>22</td>\n",
       "      <td>377</td>\n",
       "      <td>1</td>\n",
       "      <td>878887116</td>\n",
       "    </tr>\n",
       "    <tr>\n",
       "      <th>3</th>\n",
       "      <td>244</td>\n",
       "      <td>51</td>\n",
       "      <td>2</td>\n",
       "      <td>880606923</td>\n",
       "    </tr>\n",
       "    <tr>\n",
       "      <th>4</th>\n",
       "      <td>166</td>\n",
       "      <td>346</td>\n",
       "      <td>1</td>\n",
       "      <td>886397596</td>\n",
       "    </tr>\n",
       "  </tbody>\n",
       "</table>\n",
       "</div>"
      ],
      "text/plain": [
       "   user_id  item_id  rating  time_stamp\n",
       "0      196      242       3   881250949\n",
       "1      186      302       3   891717742\n",
       "2       22      377       1   878887116\n",
       "3      244       51       2   880606923\n",
       "4      166      346       1   886397596"
      ]
     },
     "execution_count": 87,
     "metadata": {},
     "output_type": "execute_result"
    }
   ],
   "source": [
    "user_data_df= pd.read_csv('/Users/user/GitHub/PySpark-Notes/ml-100k/u.data'\\\n",
    "                       ,sep = '\t', names= ['user_id', 'item_id','rating', 'time_stamp'])\n",
    "user_data_df.head()\n",
    "\n"
   ]
  },
  {
   "cell_type": "code",
   "execution_count": 111,
   "metadata": {
    "collapsed": false
   },
   "outputs": [],
   "source": [
    "time_stamps = user_data_df['time_stamp'].tolist()\n",
    "#print time_stamps\n",
    "\n",
    "\n"
   ]
  },
  {
   "cell_type": "code",
   "execution_count": 109,
   "metadata": {
    "collapsed": false
   },
   "outputs": [
    {
     "name": "stdout",
     "output_type": "stream",
     "text": [
      "timestamps PythonRDD[41] at RDD at PythonRDD.scala:43\n",
      "hour_of_day PythonRDD[42] at RDD at PythonRDD.scala:43\n"
     ]
    },
    {
     "data": {
      "text/plain": [
       "[9, 13, 1, 23, 23]"
      ]
     },
     "execution_count": 109,
     "metadata": {},
     "output_type": "execute_result"
    }
   ],
   "source": [
    "rating_data_raw = sc.textFile('/Users/user/GitHub/PySpark-Notes/ml-100k/u.data')\n",
    "rating_data = rating_data_raw.map(lambda line: line.split(\"\\t\"))\n",
    "\n",
    "\n",
    "def extract_datetime(ts):\n",
    "    import datetime\n",
    "    return datetime.datetime.fromtimestamp(ts)\n",
    "    \n",
    "timestamps = rating_data.map(lambda fields: int(fields[3]))\n",
    "print 'timestamps', timestamps\n",
    "hour_of_day = timestamps.map(lambda ts: extract_datetime(ts).hour)\n",
    "print 'hour_of_day', hour_of_day\n",
    "hour_of_day.take(5)\n"
   ]
  },
  {
   "cell_type": "code",
   "execution_count": null,
   "metadata": {
    "collapsed": false
   },
   "outputs": [],
   "source": []
  },
  {
   "cell_type": "code",
   "execution_count": 86,
   "metadata": {
    "collapsed": false
   },
   "outputs": [
    {
     "name": "stdout",
     "output_type": "stream",
     "text": [
      "\n",
      "\n"
     ]
    }
   ],
   "source": []
  },
  {
   "cell_type": "code",
   "execution_count": null,
   "metadata": {
    "collapsed": true
   },
   "outputs": [],
   "source": []
  },
  {
   "cell_type": "code",
   "execution_count": null,
   "metadata": {
    "collapsed": true
   },
   "outputs": [],
   "source": []
  },
  {
   "cell_type": "code",
   "execution_count": null,
   "metadata": {
    "collapsed": true
   },
   "outputs": [],
   "source": []
  },
  {
   "cell_type": "code",
   "execution_count": null,
   "metadata": {
    "collapsed": true
   },
   "outputs": [],
   "source": []
  }
 ],
 "metadata": {
  "kernelspec": {
   "display_name": "Python 2",
   "language": "python",
   "name": "python2"
  },
  "language_info": {
   "codemirror_mode": {
    "name": "ipython",
    "version": 2
   },
   "file_extension": ".py",
   "mimetype": "text/x-python",
   "name": "python",
   "nbconvert_exporter": "python",
   "pygments_lexer": "ipython2",
   "version": "2.7.10"
  }
 },
 "nbformat": 4,
 "nbformat_minor": 0
}
