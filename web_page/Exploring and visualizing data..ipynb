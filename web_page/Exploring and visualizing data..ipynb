{
 "cells": [
  {
   "cell_type": "markdown",
   "metadata": {},
   "source": [
    "\n",
    "# Exploración y visualización de datos con Pyspark"
   ]
  },
  {
   "cell_type": "markdown",
   "metadata": {},
   "source": [
    "Para este ejemplo usaremos The MovieLens 100k dataset."
   ]
  },
  {
   "cell_type": "code",
   "execution_count": 6,
   "metadata": {
    "collapsed": false
   },
   "outputs": [
    {
     "data": {
      "text/plain": [
       "u'1|24|M|technician|85711'"
      ]
     },
     "execution_count": 6,
     "metadata": {},
     "output_type": "execute_result"
    }
   ],
   "source": [
    "user_data = sc.textFile('/Users/user/GitHub/pyspark_exercises/ml-100k/u.user')\n",
    "user_data.first()"
   ]
  },
  {
   "cell_type": "markdown",
   "metadata": {},
   "source": [
    "## -Aunque tambien lo hubieramos podido hacer con pandas-\n",
    "\n",
    "Solo un pequeño parentesis de como podemos explorar los datos de forma muy eficiente con pandas:\n"
   ]
  },
  {
   "cell_type": "code",
   "execution_count": 59,
   "metadata": {
    "collapsed": false
   },
   "outputs": [
    {
     "data": {
      "text/html": [
       "<div>\n",
       "<table border=\"1\" class=\"dataframe\">\n",
       "  <thead>\n",
       "    <tr style=\"text-align: right;\">\n",
       "      <th></th>\n",
       "      <th>Age</th>\n",
       "      <th>Gender</th>\n",
       "      <th>Occupation</th>\n",
       "      <th>ZIP_CODE</th>\n",
       "    </tr>\n",
       "  </thead>\n",
       "  <tbody>\n",
       "    <tr>\n",
       "      <th>1</th>\n",
       "      <td>24</td>\n",
       "      <td>M</td>\n",
       "      <td>technician</td>\n",
       "      <td>85711</td>\n",
       "    </tr>\n",
       "    <tr>\n",
       "      <th>2</th>\n",
       "      <td>53</td>\n",
       "      <td>F</td>\n",
       "      <td>other</td>\n",
       "      <td>94043</td>\n",
       "    </tr>\n",
       "    <tr>\n",
       "      <th>3</th>\n",
       "      <td>23</td>\n",
       "      <td>M</td>\n",
       "      <td>writer</td>\n",
       "      <td>32067</td>\n",
       "    </tr>\n",
       "    <tr>\n",
       "      <th>4</th>\n",
       "      <td>24</td>\n",
       "      <td>M</td>\n",
       "      <td>technician</td>\n",
       "      <td>43537</td>\n",
       "    </tr>\n",
       "    <tr>\n",
       "      <th>5</th>\n",
       "      <td>33</td>\n",
       "      <td>F</td>\n",
       "      <td>other</td>\n",
       "      <td>15213</td>\n",
       "    </tr>\n",
       "  </tbody>\n",
       "</table>\n",
       "</div>"
      ],
      "text/plain": [
       "   Age Gender  Occupation ZIP_CODE\n",
       "1   24      M  technician    85711\n",
       "2   53      F       other    94043\n",
       "3   23      M      writer    32067\n",
       "4   24      M  technician    43537\n",
       "5   33      F       other    15213"
      ]
     },
     "execution_count": 59,
     "metadata": {},
     "output_type": "execute_result"
    }
   ],
   "source": [
    "import pandas as pd\n",
    "df = pd.read_csv('/Users/user/GitHub/pyspark_exercises/ml-100k/u.user', sep='|',\n",
    "                 #Le podemos colocar algunos headers para mayor comodidad:\n",
    "                 names = ['Age','Gender', 'Occupation', 'ZIP_CODE'])\n",
    "df.head()"
   ]
  },
  {
   "cell_type": "code",
   "execution_count": 60,
   "metadata": {
    "collapsed": false
   },
   "outputs": [
    {
     "name": "stdout",
     "output_type": "stream",
     "text": [
      "\n",
      "Imprimimos las clases y su contenido, podemos ver que en este dataset existen 943 instanciaspor atributo: \n",
      "\n",
      "Age           943\n",
      "Gender        943\n",
      "Occupation    943\n",
      "ZIP_CODE      943\n",
      "dtype: int64\n"
     ]
    }
   ],
   "source": [
    "#imprimimos las clases y el numero de instancias del dataset\n",
    "print \"\\nImprimimos las clases y su contenido, podemos ver que en \\\n",
    "este dataset existen 943 instancias\\\n",
    "por atributo: \\n\\n\", df.count()"
   ]
  },
  {
   "cell_type": "code",
   "execution_count": 61,
   "metadata": {
    "collapsed": false
   },
   "outputs": [
    {
     "name": "stdout",
     "output_type": "stream",
     "text": [
      "\n",
      "Imprimimos como se ve todo el corpus\n",
      "   Age Gender  Occupation ZIP_CODE\n",
      "1   24      M  technician    85711\n",
      "2   53      F       other    94043\n",
      "3   23      M      writer    32067\n",
      "4   24      M  technician    43537\n",
      "5   33      F       other    15213\n"
     ]
    }
   ],
   "source": [
    "# Ahora podemos ver como se ven\n",
    "print \"\\nImprimimos como se ve todo el corpus\\n\", df.head()"
   ]
  },
  {
   "cell_type": "code",
   "execution_count": 62,
   "metadata": {
    "collapsed": false
   },
   "outputs": [
    {
     "name": "stdout",
     "output_type": "stream",
     "text": [
      "\n",
      " Imprimimos el numero de opiniones por clase\n",
      "30    39\n",
      "25    38\n",
      "22    37\n",
      "28    36\n",
      "27    35\n",
      "26    34\n",
      "24    33\n",
      "29    32\n",
      "20    32\n",
      "32    28\n",
      "23    28\n",
      "35    27\n",
      "21    27\n",
      "33    26\n",
      "31    25\n",
      "19    23\n",
      "44    23\n",
      "39    22\n",
      "40    21\n",
      "36    21\n",
      "42    21\n",
      "51    20\n",
      "50    20\n",
      "48    20\n",
      "49    19\n",
      "37    19\n",
      "18    18\n",
      "34    17\n",
      "38    17\n",
      "45    15\n",
      "      ..\n",
      "47    14\n",
      "43    13\n",
      "46    12\n",
      "53    12\n",
      "55    11\n",
      "41    10\n",
      "57     9\n",
      "60     9\n",
      "52     6\n",
      "56     6\n",
      "15     6\n",
      "13     5\n",
      "16     5\n",
      "54     4\n",
      "63     3\n",
      "14     3\n",
      "65     3\n",
      "70     3\n",
      "61     3\n",
      "59     3\n",
      "58     3\n",
      "64     2\n",
      "68     2\n",
      "69     2\n",
      "62     2\n",
      "11     1\n",
      "10     1\n",
      "73     1\n",
      "66     1\n",
      "7      1\n",
      "dtype: int64\n"
     ]
    }
   ],
   "source": [
    "print \"\\n Imprimimos el numero de opiniones por clase\\n\", \\\n",
    "df['Age'].value_counts()"
   ]
  },
  {
   "cell_type": "code",
   "execution_count": 71,
   "metadata": {
    "collapsed": false
   },
   "outputs": [
    {
     "name": "stdout",
     "output_type": "stream",
     "text": [
      "\n",
      "Imprimimos los tipos de ocupaciones asi como el numero de instancias por ocupacion(cuantas ocupaciones)\n",
      "student          196\n",
      "other            105\n",
      "educator          95\n",
      "administrator     79\n",
      "engineer          67\n",
      "programmer        66\n",
      "librarian         51\n",
      "writer            45\n",
      "executive         32\n",
      "scientist         31\n",
      "artist            28\n",
      "technician        27\n",
      "marketing         26\n",
      "entertainment     18\n",
      "healthcare        16\n",
      "retired           14\n",
      "salesman          12\n",
      "lawyer            12\n",
      "none               9\n",
      "homemaker          7\n",
      "doctor             7\n",
      "dtype: int64\n"
     ]
    }
   ],
   "source": [
    "print \"\\nImprimimos los tipos de ocupaciones asi como el numero de instancias por ocupacion\\\n",
    "(cuantas ocupaciones)\\n\", \\\n",
    "    df['Occupation'].value_counts()"
   ]
  },
  {
   "cell_type": "code",
   "execution_count": 67,
   "metadata": {
    "collapsed": false
   },
   "outputs": [
    {
     "name": "stdout",
     "output_type": "stream",
     "text": [
      "\n",
      " Imprimimos la descripcion del dataset\n",
      "              Age\n",
      "count  943.000000\n",
      "mean    34.051962\n",
      "std     12.192740\n",
      "min      7.000000\n",
      "25%     25.000000\n",
      "50%     31.000000\n",
      "75%     43.000000\n",
      "max     73.000000\n"
     ]
    }
   ],
   "source": [
    "#Describimos el dataset:\n",
    "print \"\\n Imprimimos la descripcion del dataset\\n\", df.describe()"
   ]
  },
  {
   "cell_type": "code",
   "execution_count": 69,
   "metadata": {
    "collapsed": false
   },
   "outputs": [
    {
     "name": "stdout",
     "output_type": "stream",
     "text": [
      "\n",
      "Imprimimos los generos del dataset (cuantos hombres y mujeres hay)\n",
      "M    670\n",
      "F    273\n",
      "dtype: int64\n"
     ]
    }
   ],
   "source": [
    "print \"\\nImprimimos los generos del dataset (cuantos hombres y mujeres hay)\\n\", \\\n",
    "    df['Gender'].value_counts()"
   ]
  },
  {
   "cell_type": "code",
   "execution_count": 73,
   "metadata": {
    "collapsed": false
   },
   "outputs": [
    {
     "name": "stdout",
     "output_type": "stream",
     "text": [
      "\n",
      "Imprimimos los cps del dataset\n",
      "55414    9\n",
      "55105    6\n",
      "20009    5\n",
      "10003    5\n",
      "55337    5\n",
      "55454    4\n",
      "55408    4\n",
      "27514    4\n",
      "14216    3\n",
      "61801    3\n",
      "97301    3\n",
      "60201    3\n",
      "55108    3\n",
      "02215    3\n",
      "10021    3\n",
      "55106    3\n",
      "61820    3\n",
      "55113    3\n",
      "55409    3\n",
      "55104    3\n",
      "62901    3\n",
      "11217    3\n",
      "48103    3\n",
      "22902    3\n",
      "94043    3\n",
      "80525    3\n",
      "22903    3\n",
      "63108    3\n",
      "21114    2\n",
      "60630    2\n",
      "        ..\n",
      "97229    1\n",
      "29301    1\n",
      "R3T5K    1\n",
      "78602    1\n",
      "45439    1\n",
      "80919    1\n",
      "95032    1\n",
      "28018    1\n",
      "15017    1\n",
      "95129    1\n",
      "92688    1\n",
      "10314    1\n",
      "17110    1\n",
      "12866    1\n",
      "30002    1\n",
      "20723    1\n",
      "48446    1\n",
      "17331    1\n",
      "95110    1\n",
      "30350    1\n",
      "52241    1\n",
      "90804    1\n",
      "52246    1\n",
      "52245    1\n",
      "08034    1\n",
      "17961    1\n",
      "27511    1\n",
      "27510    1\n",
      "97232    1\n",
      "14853    1\n",
      "dtype: int64\n"
     ]
    }
   ],
   "source": [
    "print \"\\nImprimimos los cps del dataset\\n\", \\\n",
    "    df['ZIP_CODE'].value_counts()"
   ]
  },
  {
   "cell_type": "code",
   "execution_count": 74,
   "metadata": {
    "collapsed": false
   },
   "outputs": [
    {
     "data": {
      "text/plain": [
       "PythonRDD[54] at RDD at PythonRDD.scala:43"
      ]
     },
     "execution_count": 74,
     "metadata": {},
     "output_type": "execute_result"
    }
   ],
   "source": [
    "user_fields = user_data.map(lambda line :\n",
    "                           line.split('|'))\n",
    "user_fields"
   ]
  },
  {
   "cell_type": "code",
   "execution_count": 9,
   "metadata": {
    "collapsed": false
   },
   "outputs": [
    {
     "name": "stdout",
     "output_type": "stream",
     "text": [
      "Users: 943, genders:2, occupations:21, Codigos postales:795\n"
     ]
    }
   ],
   "source": [
    "num_users = user_fields.map(lambda fields:\n",
    "                            #le damos la posicion con el [0]\n",
    "                            fields[0]).distinct().count()\n",
    "\n",
    "num_genders = user_fields.map(lambda fields:\n",
    "                             fields[2]).distinct().count()\n",
    "\n",
    "num_ocupations = user_fields.map(lambda fields:\n",
    "                                fields[3]).distinct().count()\n",
    "\n",
    "num_zipcodes = user_fields.map(lambda fields:\n",
    "                              fields[4]).distinct().count()\n",
    "\n",
    "print 'Users: %d, genders:%d, occupations:%d, Codigos postales:%d'%(\n",
    "    num_users, num_genders, num_ocupations, num_zipcodes)\n"
   ]
  },
  {
   "cell_type": "code",
   "execution_count": 10,
   "metadata": {
    "collapsed": false
   },
   "outputs": [
    {
     "name": "stdout",
     "output_type": "stream",
     "text": [
      "Populating the interactive namespace from numpy and matplotlib\n"
     ]
    },
    {
     "data": {
      "text/plain": [
       "<matplotlib.text.Text at 0x103ec1890>"
      ]
     },
     "execution_count": 10,
     "metadata": {},
     "output_type": "execute_result"
    },
    {
     "data": {
      "image/png": "[encoded data removed]",
      "text/plain": [
       "<matplotlib.figure.Figure at 0x1034e0ed0>"
      ]
     },
     "metadata": {},
     "output_type": "display_data"
    }
   ],
   "source": [
    "get_ipython().magic(u'pylab inline')\n",
    "import matplotlib\n",
    "import numpy as np\n",
    "import matplotlib.pyplot as plt\n",
    "\n",
    "ages = user_fields.map(lambda x: int(x[1])).collect()\n",
    "hist(ages, bins=20, color='lightblue', normed=True)\n",
    "fig = matplotlib.pyplot.gcf()\n",
    "fig.set_size_inches(16, 10)\n",
    "plt.xlabel('distribucion de las edades', fontsize=16)"
   ]
  },
  {
   "cell_type": "code",
   "execution_count": null,
   "metadata": {
    "collapsed": true
   },
   "outputs": [],
   "source": [
    "#ahora contaremos por genero\n",
    "count_by_gender = "
   ]
  },
  {
   "cell_type": "code",
   "execution_count": null,
   "metadata": {
    "collapsed": true
   },
   "outputs": [],
   "source": []
  }
 ],
 "metadata": {
  "kernelspec": {
   "display_name": "Python 2",
   "language": "python",
   "name": "python2"
  },
  "language_info": {
   "codemirror_mode": {
    "name": "ipython",
    "version": 2
   },
   "file_extension": ".py",
   "mimetype": "text/x-python",
   "name": "python",
   "nbconvert_exporter": "python",
   "pygments_lexer": "ipython2",
   "version": "2.7.10"
  }
 },
 "nbformat": 4,
 "nbformat_minor": 0
}
